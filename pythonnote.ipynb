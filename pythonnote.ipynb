{
 "cells": [
  {
   "cell_type": "code",
   "execution_count": 2,
   "id": "b8a9b435",
   "metadata": {
    "scrolled": true
   },
   "outputs": [
    {
     "name": "stdout",
     "output_type": "stream",
     "text": [
      "哈\n"
     ]
    }
   ],
   "source": [
    "s='abcha哈'\n",
    "print(s[-1])"
   ]
  },
  {
   "cell_type": "code",
   "execution_count": 3,
   "id": "eff8a73e",
   "metadata": {},
   "outputs": [
    {
     "name": "stdout",
     "output_type": "stream",
     "text": [
      "def&ghi&abc\n"
     ]
    }
   ],
   "source": [
    "a='abc'\n",
    "b='def'\n",
    "c='ghi'\n",
    "\n",
    "f='&'.join((b,c,a))\n",
    "print(f)"
   ]
  },
  {
   "cell_type": "code",
   "execution_count": 4,
   "id": "3f1e9431",
   "metadata": {},
   "outputs": [
    {
     "name": "stdout",
     "output_type": "stream",
     "text": [
      "http\n",
      "s://www.cnblogs.com/yangyuqig/p/10101663.html这是序列让我们来试访问序列吧\n",
      "https://www.cnblogs.com/yangyuqig/p/10101663.html这是序列让我们来试访问序列吧\n",
      "[]\n"
     ]
    },
    {
     "data": {
      "text/plain": [
       "'hts'"
      ]
     },
     "execution_count": 4,
     "metadata": {},
     "output_type": "execute_result"
    }
   ],
   "source": [
    "tag=['https://www.cnblogs.com/yangyuqig/p/10101663.html'\n",
    "    '这是序列'\n",
    "    '让我们来试访问序列吧']\n",
    "print(tag[0][:4])\n",
    "print(tag[0][4:])\n",
    "print(tag[0])\n",
    "print(tag[4:])\n",
    "tag[0][0:6:2]"
   ]
  },
  {
   "cell_type": "code",
   "execution_count": 15,
   "id": "82235d45",
   "metadata": {},
   "outputs": [
    {
     "name": "stdout",
     "output_type": "stream",
     "text": [
      "['zhangsan', 'lisi', 'wangwu']\n",
      "[18, 20, 16]\n"
     ]
    },
    {
     "data": {
      "text/plain": [
       "'lisi'"
      ]
     },
     "execution_count": 15,
     "metadata": {},
     "output_type": "execute_result"
    }
   ],
   "source": [
    "stuname=['zhangsan','lisi','wangwu']\n",
    "stuage=[18,20,16]\n",
    "database=[stuname,stuage]\n",
    "for stu in database:\n",
    "    print(stu)\n",
    "database\n",
    "database[0][1]"
   ]
  },
  {
   "cell_type": "code",
   "execution_count": 6,
   "id": "7d646309",
   "metadata": {},
   "outputs": [
    {
     "name": "stdout",
     "output_type": "stream",
     "text": [
      "[1, 2, 3, 'zhangsan', 'lisi', 'wangwu']\n",
      "lisi\n",
      "1\n",
      "5\n",
      "zheafkjf\n",
      "\n"
     ]
    }
   ],
   "source": [
    "xl=[1,2,3]+['zhangsan','lisi','wangwu']\n",
    "print(xl)\n",
    "if 'lisi' in xl:\n",
    "    print('lisi')\n",
    "if 1 in xl:\n",
    "    print(1)\n",
    "len(xl)\n",
    "xl2=[5,1,2,0]\n",
    "xl3=['zhe','and','afkjf']\n",
    "print(max(xl2))\n",
    "print(max(xl3)+min(xl3))\n",
    "print()"
   ]
  },
  {
   "cell_type": "code",
   "execution_count": 7,
   "id": "0cd05b68",
   "metadata": {},
   "outputs": [
    {
     "name": "stdout",
     "output_type": "stream",
     "text": [
      "你好，世界\n",
      "hello\n",
      "runoob\n"
     ]
    }
   ],
   "source": [
    "print (\"你好，世界\")\n",
    "print ('hello');print ('runoob');"
   ]
  },
  {
   "cell_type": "code",
   "execution_count": 8,
   "id": "24d35eb9",
   "metadata": {},
   "outputs": [
    {
     "name": "stdout",
     "output_type": "stream",
     "text": [
      "1 4 5\n"
     ]
    },
    {
     "data": {
      "text/plain": [
       "'\\n这是多行注释，使用双引号。\\n这是多行注释，使用双引号。\\n这是多行注释，使用双引号。\\n'"
      ]
     },
     "execution_count": 8,
     "metadata": {},
     "output_type": "execute_result"
    }
   ],
   "source": [
    "a=1\n",
    "b,c=4,5\n",
    "num=a+\\\n",
    "    b+\\\n",
    "    c\n",
    "\n",
    "print(a,b,c)\n",
    "\n",
    "'''\n",
    "这是多行注释，使用单引号。\n",
    "这是多行注释，使用单引号。\n",
    "这是多行注释，使用单引号。\n",
    "'''\n",
    "\n",
    "\"\"\"\n",
    "这是多行注释，使用双引号。\n",
    "这是多行注释，使用双引号。\n",
    "这是多行注释，使用双引号。\n",
    "\"\"\""
   ]
  },
  {
   "cell_type": "markdown",
   "id": "5c9a0b01",
   "metadata": {},
   "source": [
    "input(\"按下 enter 键退出，其他任意键显示...\\n\")"
   ]
  },
  {
   "cell_type": "code",
   "execution_count": 9,
   "id": "16e86863",
   "metadata": {},
   "outputs": [
    {
     "name": "stdout",
     "output_type": "stream",
     "text": [
      "runoob\n"
     ]
    },
    {
     "data": {
      "text/plain": [
       "7"
      ]
     },
     "execution_count": 9,
     "metadata": {},
     "output_type": "execute_result"
    }
   ],
   "source": [
    "import sys; x = 'runoob'; sys.stdout.write(x + '\\n')"
   ]
  },
  {
   "attachments": {
    "image.png": {
     "image/png": "[encoded data removed]"
    }
   },
   "cell_type": "markdown",
   "id": "045d6bd5",
   "metadata": {},
   "source": [
    "Numbers（数字）\n",
    "String（字符串）\n",
    "List（列表）\n",
    "Tuple（元组）\n",
    "Dictionary（字典）\n",
    "\n",
    "函数\t描述\n",
    "int(x [,base])\n",
    "\n",
    "将x转换为一个整数\n",
    "\n",
    "long(x [,base] )\n",
    "\n",
    "将x转换为一个长整数\n",
    "\n",
    "float(x)\n",
    "\n",
    "将x转换到一个浮点数\n",
    "\n",
    "complex(real [,imag])\n",
    "\n",
    "创建一个复数\n",
    "\n",
    "str(x)\n",
    "\n",
    "将对象 x 转换为字符串\n",
    "\n",
    "repr(x)\n",
    "\n",
    "将对象 x 转换为表达式字符串\n",
    "\n",
    "eval(str)\n",
    "\n",
    "用来计算在字符串中的有效Python表达式,并返回一个对象\n",
    "\n",
    "tuple(s)\n",
    "\n",
    "将序列 s 转换为一个元组\n",
    "\n",
    "list(s)\n",
    "\n",
    "将序列 s 转换为一个列表\n",
    "\n",
    "set(s)\n",
    "\n",
    "转换为可变集合\n",
    "\n",
    "dict(d)\n",
    "\n",
    "创建一个字典。d 必须是一个序列 (key,value)元组。\n",
    "\n",
    "frozenset(s)\n",
    "\n",
    "转换为不可变集合\n",
    "\n",
    "chr(x)\n",
    "\n",
    "将一个整数转换为一个字符\n",
    "\n",
    "unichr(x)\n",
    "\n",
    "将一个整数转换为Unicode字符\n",
    "\n",
    "ord(x)\n",
    "\n",
    "将一个字符转换为它的整数值\n",
    "\n",
    "hex(x)\n",
    "\n",
    "将一个整数转换为一个十六进制字符串\n",
    "\n",
    "oct(x)\n",
    "\n",
    "将一个整数转换为一个八进制字符串\n",
    "![image.png](attachment:image.png)\n"
   ]
  },
  {
   "cell_type": "code",
   "execution_count": 10,
   "id": "7021eb14",
   "metadata": {},
   "outputs": [
    {
     "name": "stdout",
     "output_type": "stream",
     "text": [
      "This is one\n",
      "This is two\n",
      "{'name': 'runoob', 'code': 6734, 'dept': 'sales'}\n",
      "dict_keys(['name', 'code', 'dept'])\n",
      "dict_values(['runoob', 6734, 'sales'])\n"
     ]
    }
   ],
   "source": [
    "dict = {}\n",
    "dict['one'] = \"This is one\"\n",
    "dict[2] = \"This is two\"\n",
    " \n",
    "tinydict = {'name': 'runoob','code':6734, 'dept': 'sales'}\n",
    " \n",
    " \n",
    "print (dict['one']          )# 输出键为'one' 的值\n",
    "print( dict[2])              # 输出键为 2 的值\n",
    "print (tinydict)             # 输出完整的字典\n",
    "print (tinydict.keys())      # 输出所有键\n",
    "print (tinydict.values())    # 输出所有值"
   ]
  },
  {
   "cell_type": "markdown",
   "id": "03620820",
   "metadata": {},
   "source": [
    "a = 0011 1100\n",
    "\n",
    "b = 0000 1101\n",
    "\n",
    "a&b = 0000 1100\n",
    "\n",
    "a|b = 0011 1101\n",
    "\n",
    "a^b = 0011 0001\n",
    "\n",
    "~a  = 1100 0011\n"
   ]
  },
  {
   "cell_type": "code",
   "execution_count": 11,
   "id": "d6a73553",
   "metadata": {},
   "outputs": [
    {
     "name": "stdout",
     "output_type": "stream",
     "text": [
      "not false\n",
      "ainl\n",
      "1\n",
      "[1, 2, 3, 0]\n",
      "has2\n",
      "0 in\n"
     ]
    }
   ],
   "source": [
    "if not False:\n",
    "    print(\"not false\")\n",
    "list=[1,2,3,0]\n",
    "if(a in list):\n",
    "    print('ainl')\n",
    "    print(a)\n",
    "if(2 not in list):\n",
    "    print(2,'notin')\n",
    "else:\n",
    "    print(list)\n",
    "    print('has'+'2')\n",
    "if(0 in list):\n",
    "    print(0,'in')"
   ]
  },
  {
   "cell_type": "code",
   "execution_count": 12,
   "id": "11ae14fe",
   "metadata": {},
   "outputs": [
    {
     "ename": "SystemExit",
     "evalue": "0",
     "output_type": "error",
     "traceback": [
      "An exception has occurred, use %tb to see the full traceback.\n",
      "\u001b[1;31mSystemExit\u001b[0m\u001b[1;31m:\u001b[0m 0\n"
     ]
    },
    {
     "name": "stderr",
     "output_type": "stream",
     "text": [
      "E:\\Anaconda3\\lib\\site-packages\\IPython\\core\\interactiveshell.py:3516: UserWarning: To exit: use 'exit', 'quit', or Ctrl-D.\n",
      "  warn(\"To exit: use 'exit', 'quit', or Ctrl-D.\", stacklevel=1)\n"
     ]
    }
   ],
   "source": [
    "#!/usr/bin/python3\n",
    "# -*- coding: utf-8 -*-\n",
    "\n",
    "\"\"\"\n",
    "ZetCode PyQt5 tutorial \n",
    "\n",
    "In this example, we create a simple\n",
    "window in PyQt5.\n",
    "\n",
    "author: Jan Bodnar\n",
    "website: zetcode.com \n",
    "Last edited: August 2017\n",
    "\"\"\"\n",
    "\n",
    "import sys\n",
    "from PyQt5.QtWidgets import QApplication, QWidget\n",
    "\n",
    "\n",
    "if __name__ == '__main__':\n",
    "\n",
    "    app = QApplication(sys.argv)\n",
    "\n",
    "    w = QWidget()\n",
    "    w.resize(250, 150)\n",
    "    w.move(300, 300)\n",
    "    w.setWindowTitle('Simple')\n",
    "    w.show()\n",
    "\n",
    "    sys.exit(app.exec_())"
   ]
  },
  {
   "cell_type": "code",
   "execution_count": null,
   "id": "ba3a6ec8",
   "metadata": {},
   "outputs": [],
   "source": [
    "#!/usr/bin/python3\n",
    "# -*- coding: utf-8 -*-\n",
    "\n",
    "\"\"\"\n",
    "ZetCode PyQt5 tutorial \n",
    "\n",
    "This example shows an icon\n",
    "in the titlebar of the window.\n",
    "\n",
    "Author: Jan Bodnar\n",
    "Website: zetcode.com \n",
    "Last edited: August 2017\n",
    "\"\"\"\n",
    "\n",
    "import sys\n",
    "from PyQt5.QtWidgets import QApplication, QWidget\n",
    "from PyQt5.QtGui import QIcon\n",
    "\n",
    "\n",
    "class Example(QWidget):\n",
    "\n",
    "    def __init__(self):\n",
    "        super().__init__()\n",
    "\n",
    "        self.initUI()\n",
    "\n",
    "\n",
    "    def initUI(self):\n",
    "\n",
    "        self.setGeometry(300, 300, 300, 220)\n",
    "        self.setWindowTitle('Icon')\n",
    "        self.setWindowIcon(QIcon('web.png'))        \n",
    "\n",
    "        self.show()\n",
    "\n",
    "\n",
    "if __name__ == '__main__':\n",
    "\n",
    "    app = QApplication(sys.argv)\n",
    "    ex = Example()\n",
    "    sys.exit(app.exec_())"
   ]
  },
  {
   "cell_type": "code",
   "execution_count": 16,
   "id": "cbfeed8e",
   "metadata": {},
   "outputs": [
    {
     "name": "stdout",
     "output_type": "stream",
     "text": [
      "Input: [0 0], Prediction: 0\n",
      "Input: [0 1], Prediction: 0\n",
      "Input: [1 0], Prediction: 0\n",
      "Input: [1 1], Prediction: 1\n"
     ]
    }
   ],
   "source": [
    "import numpy as np\n",
    "\n",
    "class Perceptron:\n",
    "    def __init__(self, input_dim):\n",
    "        # 初始化权重和偏置为0\n",
    "        self.weights = np.zeros(input_dim)\n",
    "        self.bias = 0\n",
    "\n",
    "    def predict(self, inputs):\n",
    "        # 计算加权和\n",
    "        net_input = np.dot(inputs, self.weights) + self.bias\n",
    "        # 使用阶跃函数作为激活函数\n",
    "        return 1 if net_input >= 0 else 0\n",
    "\n",
    "    def train(self, training_data, labels, learning_rate=0.1, epochs=100):\n",
    "        for _ in range(epochs):\n",
    "            for inputs, label in zip(training_data, labels):\n",
    "                prediction = self.predict(inputs)\n",
    "                # 根据预测结果和真实标签来更新权重和偏置\n",
    "                self.weights += learning_rate * (label - prediction) * inputs\n",
    "                self.bias += learning_rate * (label - prediction)\n",
    "\n",
    "# 示例用法\n",
    "if __name__ == \"__main__\":\n",
    "    # 假设输入特征维度为2\n",
    "    input_dim = 2\n",
    "    # 初始化感知机\n",
    "    perceptron = Perceptron(input_dim)\n",
    "\n",
    "    # 训练数据集和标签\n",
    "    training_data = np.array([[0, 0], [0, 1], [1, 0], [1, 1]])\n",
    "    labels = np.array([0, 0, 0, 1])\n",
    "\n",
    "    # 训练感知机\n",
    "    perceptron.train(training_data, labels)\n",
    "\n",
    "    # 进行预测\n",
    "    test_data = np.array([[0, 0], [0, 1], [1, 0], [1, 1]])\n",
    "    for data in test_data:\n",
    "        prediction = perceptron.predict(data)\n",
    "        print(f\"Input: {data}, Prediction: {prediction}\")\n"
   ]
  },
  {
   "cell_type": "code",
   "execution_count": null,
   "id": "bbfa83e1",
   "metadata": {},
   "outputs": [],
   "source": []
  },
  {
   "cell_type": "code",
   "execution_count": null,
   "id": "9d21c812",
   "metadata": {},
   "outputs": [],
   "source": []
  }
 ],
 "metadata": {
  "kernelspec": {
   "display_name": "Python 3 (ipykernel)",
   "language": "python",
   "name": "python3"
  },
  "language_info": {
   "codemirror_mode": {
    "name": "ipython",
    "version": 3
   },
   "file_extension": ".py",
   "mimetype": "text/x-python",
   "name": "python",
   "nbconvert_exporter": "python",
   "pygments_lexer": "ipython3",
   "version": "3.10.9"
  }
 },
 "nbformat": 4,
 "nbformat_minor": 5
}
